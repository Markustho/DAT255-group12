{
 "cells": [
  {
   "cell_type": "markdown",
   "metadata": {},
   "source": []
  },
  {
   "cell_type": "code",
   "execution_count": 2,
   "metadata": {},
   "outputs": [],
   "source": [
    "import pandas as pd"
   ]
  },
  {
   "cell_type": "code",
   "execution_count": null,
   "metadata": {},
   "outputs": [],
   "source": [
    "# THIS WAS ONLY USED TO GENERATE CSV FILES\n",
    "\n",
    "\n",
    "'''file_path_weatherdata_2016 = \"data/processed/Onsite-MetMast-SCADA-data-2016.xlsx\"\n",
    "file_path_weatherdata_2017 = \"data/processed/Onsite-MetMast-SCADA-data-2017.xlsx\"\n",
    "file_path_turbinedata_2016 = \"data/processed/Wind-Turbine-SCADA-signals-2016.xlsx\"\n",
    "file_path_turbinedata_2017 = \"data/processed/Wind-Turbine-SCADA-signals-2017_0.xlsx\"\n",
    "\n",
    "wdf_2016 = pd.read_excel(file_path_weatherdata_2016)\n",
    "wdf_2017 = pd.read_excel(file_path_weatherdata_2017)\n",
    "tdf_2016 = pd.read_excel(file_path_turbinedata_2016)\n",
    "tdf_2017 = pd.read_excel(file_path_turbinedata_2017)\n",
    "\n",
    "\n",
    "\n",
    "wdf_2016.to_csv('data/processed/Onsite-MetMast-SCADA-data-2016.csv')\n",
    "wdf_2017.to_csv('data/processed/Onsite-MetMast-SCADA-data-2017.csv')\n",
    "tdf_2016.to_csv('data/processed/Wind-Turbine-SCADA-signals-2016.csv')\n",
    "tdf_2017.to_csv('data/processed/Wind-Turbine-SCADA-signals-2017_0.csv')'''"
   ]
  },
  {
   "cell_type": "code",
   "execution_count": null,
   "metadata": {},
   "outputs": [],
   "source": [
    "'''\n",
    "wdf_2016.to_csv('data/processed/Onsite-MetMast-SCADA-data-2016.csv')\n",
    "wdf_2017.to_csv('data/processed/Onsite-MetMast-SCADA-data-2017.csv')\n",
    "tdf_2016.to_csv('data/processed/Wind-Turbine-SCADA-signals-2016.csv')\n",
    "tdf_2017.to_csv('data/processed/Wind-Turbine-SCADA-signals-2017_0.csv')'''"
   ]
  },
  {
   "cell_type": "code",
   "execution_count": null,
   "metadata": {},
   "outputs": [],
   "source": [
    "path = Path('../../..')\n",
    "Path.BASE_PATH = path\n"
   ]
  },
  {
   "cell_type": "code",
   "execution_count": 3,
   "metadata": {},
   "outputs": [],
   "source": [
    "wdf_2016 = pd.read_csv(path/'data/processed/Onsite-MetMast-SCADA-data-2016.csv', low_memory = False)\n",
    "wdf_2017 = pd.read_csv(path/'data/processed/Onsite-MetMast-SCADA-data-2017.csv', low_memory=False)\n",
    "tdf_2016 = pd.read_csv(path/'data/processed/Wind-Turbine-SCADA-signals-2016.csv',low_memory = False)\n",
    "tdf_2017 = pd.read_csv(path/'data/processed/Wind-Turbine-SCADA-signals-2017_0.csv', low_memory=False)"
   ]
  },
  {
   "cell_type": "markdown",
   "metadata": {},
   "source": [
    "Merge 2016 onsite with 2016 turbine data, and merge 2017 onsite with 2017 turbine data. Plan is to use 2016 as training and validation data, and 2017 as test data.\n",
    "\n",
    "I think we should merge as outer join, not inner as we want to keep all data."
   ]
  },
  {
   "cell_type": "code",
   "execution_count": 4,
   "metadata": {},
   "outputs": [],
   "source": [
    "df_2016 = pd.merge(wdf_2016, tdf_2016, on='Timestamp', how='outer')\n",
    "df_2017 = pd.merge(wdf_2017, tdf_2017, on='Timestamp', how='outer')\n"
   ]
  },
  {
   "cell_type": "code",
   "execution_count": null,
   "metadata": {},
   "outputs": [],
   "source": [
    "pd.options.display.max_columns = None\n",
    "df_2016.columns.tolist()"
   ]
  },
  {
   "cell_type": "code",
   "execution_count": null,
   "metadata": {},
   "outputs": [],
   "source": [
    "wdf_2016.shape, tdf_2016.shape"
   ]
  },
  {
   "cell_type": "markdown",
   "metadata": {},
   "source": [
    "### We have to be careful as the turbine dataset is much larger than the MET data. When combining these, we don't want to 1) lose data and 2) bias the model"
   ]
  },
  {
   "cell_type": "code",
   "execution_count": null,
   "metadata": {},
   "outputs": [],
   "source": [
    "df_2016.shape"
   ]
  },
  {
   "cell_type": "markdown",
   "metadata": {},
   "source": [
    "## Now we want to extract data from only Turbine 7"
   ]
  },
  {
   "cell_type": "code",
   "execution_count": 5,
   "metadata": {},
   "outputs": [
    {
     "data": {
      "text/plain": [
       "(52445, 125)"
      ]
     },
     "execution_count": 5,
     "metadata": {},
     "output_type": "execute_result"
    }
   ],
   "source": [
    "# Using pandas boolean indexing to create new dataframe where Turbine ID = T07\n",
    "df_2016_T07 = df_2016[df_2016['Turbine_ID']=='T07'].copy().reset_index(drop=True)\n",
    "df_2017_T07 = df_2017[df_2017['Turbine_ID']=='T07'].copy().reset_index(drop=True)\n",
    "\n",
    "df_2016_T07.shape\n"
   ]
  },
  {
   "cell_type": "markdown",
   "metadata": {},
   "source": [
    "That made the data we're working with 4x less"
   ]
  },
  {
   "cell_type": "code",
   "execution_count": 6,
   "metadata": {},
   "outputs": [],
   "source": [
    "#hide\n",
    "from fastbook import *\n",
    "from pandas.api.types import is_string_dtype, is_numeric_dtype, is_categorical_dtype\n",
    "from fastai.tabular.all import *\n",
    "from sklearn.ensemble import RandomForestRegressor\n",
    "from sklearn.tree import DecisionTreeRegressor\n",
    "from dtreeviz.trees import *\n",
    "from IPython.display import Image, display_svg, SVG\n",
    " \n",
    "pd.options.display.max_rows = 20\n",
    "pd.options.display.max_columns = 8\n",
    "\n"
   ]
  },
  {
   "cell_type": "code",
   "execution_count": null,
   "metadata": {},
   "outputs": [],
   "source": [
    "creds = '{\"username\":\"magnusnordeide\",\"key\":\"c4f77aea4277d9d887723d3e3749e8a1\"}'"
   ]
  },
  {
   "cell_type": "code",
   "execution_count": null,
   "metadata": {},
   "outputs": [],
   "source": [
    "cred_path = Path('./.kaggle/kaggle.json').expanduser()\n",
    "if not cred_path.exists():\n",
    "    cred_path.parent.mkdir(exist_ok=True)\n",
    "    cred_path.write_text(creds)\n",
    "    cred_path.chmod(0o600)"
   ]
  },
  {
   "cell_type": "markdown",
   "metadata": {},
   "source": [
    "### I don't think there are any ordinal data here, everything except timestamp is interval data."
   ]
  },
  {
   "cell_type": "code",
   "execution_count": null,
   "metadata": {},
   "outputs": [],
   "source": [
    "df_2016_T07['Max_Humidity'].unique()\n",
    "\n"
   ]
  },
  {
   "cell_type": "code",
   "execution_count": null,
   "metadata": {},
   "outputs": [],
   "source": [
    "df_2016_T07['Gen_RPM_Avg']"
   ]
  },
  {
   "cell_type": "markdown",
   "metadata": {},
   "source": [
    "## Let's plot the data to take a look at how it acts"
   ]
  },
  {
   "cell_type": "code",
   "execution_count": 7,
   "metadata": {},
   "outputs": [],
   "source": [
    "import matplotlib.pyplot as plt\n",
    "\n",
    "df_2016_T07['Timestamp'] = pd.to_datetime(df_2016_T07['Timestamp'])\n",
    "df_2017_T07['Timestamp'] = pd.to_datetime(df_2017_T07['Timestamp'])"
   ]
  },
  {
   "cell_type": "code",
   "execution_count": 8,
   "metadata": {},
   "outputs": [
    {
     "data": {
      "image/png": "[encoded data removed]",
      "text/plain": [
       "<Figure size 640x480 with 1 Axes>"
      ]
     },
     "metadata": {},
     "output_type": "display_data"
    }
   ],
   "source": [
    "\n",
    "\n",
    "plt.scatter(df_2016_T07['Timestamp'],df_2016_T07['Gen_Bear_Temp_Avg'])\n",
    "plt.xticks(rotation=45, ha='right')\n",
    "plt.xlim(pd.Timestamp('2016-11-15'), pd.Timestamp('2016-12-01'))\n",
    "plt.show()"
   ]
  },
  {
   "cell_type": "code",
   "execution_count": null,
   "metadata": {},
   "outputs": [],
   "source": [
    "import seaborn as sns\n",
    "\n",
    "#df_2016_T07 = df_2016_T07.sample(1000)\n",
    "g = sns.pairplot(\n",
    "    df_2016_T07, \n",
    "    x_vars=['Gen_Bear_Temp_Avg','Gen_RPM_Avg','Gen_Phase1_Temp_Avg','Nac_Temp_Avg','Avg_Windspeed1','Avg_Humidity'],\n",
    "    y_vars=['Gen_Bear_Temp_Avg','Gen_RPM_Avg','Gen_Phase1_Temp_Avg','Nac_Temp_Avg','Avg_Windspeed1','Avg_Humidity']\n",
    "              )\n",
    "\n",
    "#to draw KDEs:\n",
    "#g.map(sns.kdeplot, levels=4, color=\".2\")"
   ]
  },
  {
   "cell_type": "markdown",
   "metadata": {},
   "source": [
    "### We see that the plot is similar to the one in Oliver's rapport. Only difference is there is no datacleaning done here, and Oliver also combined some of the columns into one (ex: avg_windspeed1, avg_windspeed2, avg_windspeed3 --> Wind_Speed in Olivers rapport)"
   ]
  },
  {
   "cell_type": "markdown",
   "metadata": {},
   "source": [
    "### If we have ordinal values, we can inform pandas here\n"
   ]
  },
  {
   "cell_type": "markdown",
   "metadata": {},
   "source": [
    "## Let's try to implement a decision tree, then a random forest before cleaning the data further.."
   ]
  },
  {
   "cell_type": "markdown",
   "metadata": {},
   "source": [
    "# Implementing a decision tree"
   ]
  },
  {
   "cell_type": "code",
   "execution_count": null,
   "metadata": {},
   "outputs": [],
   "source": [
    "# this is from fastai chapter 9\n",
    "'''sizes = 'Large','Large / Medium','Medium','Small','Mini','Compact'\n",
    "\n",
    "df['ProductSize'] = df['ProductSize'].astype('category')\n",
    "df['ProductSize'] = df['ProductSize'].cat.set_categories(sizes, ordered=True)'''"
   ]
  },
  {
   "cell_type": "code",
   "execution_count": null,
   "metadata": {},
   "outputs": [],
   "source": [
    "dep_var = \"Gen_Bear_Temp_Avg\""
   ]
  },
  {
   "cell_type": "code",
   "execution_count": null,
   "metadata": {},
   "outputs": [],
   "source": [
    "# If we want to use RMSLE as metric:\n",
    "\n",
    "# df_2016_T07[dep_var] = np.log(df_2016_T07[dep_var])\n",
    "# df_2017_T07[dep_var] = np.log(df_2017_T07[dep_var])"
   ]
  },
  {
   "cell_type": "markdown",
   "metadata": {},
   "source": [
    "### Handling dates"
   ]
  },
  {
   "cell_type": "markdown",
   "metadata": {},
   "source": [
    "The first piece of data preparation we need to do is to enrich our representation of dates. The fundamental basis of the decision tree that we just described is *bisection*— dividing a group into two. We look at the ordinal variables and divide up the dataset based on whether the variable's value is greater (or lower) than a threshold, and we look at the categorical variables and divide up the dataset based on whether the variable's level is a particular level. So this algorithm has a way of dividing up the dataset based on both ordinal and categorical data.\n",
    "\n",
    "But how does this apply to a common data type, the date? You might want to treat a date as an ordinal value, because it is meaningful to say that one date is greater than another. However, dates are a bit different from most ordinal values in that some dates are qualitatively different from others in a way that that is often relevant to the systems we are modeling.\n",
    "\n",
    "In order to help our algorithm handle dates intelligently, we'd like our model to know more than whether a date is more recent or less recent than another. We might want our model to make decisions based on that date's day of the week, on whether a day is a holiday, on what month it is in, and so forth. To do this, we replace every date column with a set of date metadata columns, such as holiday, day of week, and month. These columns provide categorical data that we suspect will be useful. \n",
    "\n",
    "PS. This may not be so useful for this implementation, but okay to test anyways!\n",
    "\n",
    "fastai comes with a function that will do this for us—we just have to pass a column name that contains dates:"
   ]
  },
  {
   "cell_type": "code",
   "execution_count": null,
   "metadata": {},
   "outputs": [],
   "source": [
    "df_2016_T07, df_2017_T07 = add_datepart(df_2016_T07, 'Timestamp'), add_datepart(df_2017_T07, 'Timestamp')"
   ]
  },
  {
   "cell_type": "code",
   "execution_count": null,
   "metadata": {},
   "outputs": [],
   "source": [
    "# show new columns added:\n",
    "' '.join(o for o in df_2016_T07.columns if o.startswith('Time'))"
   ]
  },
  {
   "cell_type": "markdown",
   "metadata": {},
   "source": [
    "### Let's add TabularPandas and TabularProc"
   ]
  },
  {
   "cell_type": "markdown",
   "metadata": {},
   "source": [
    "A second piece of preparatory processing is to be sure we can handle strings and missing data. Out of the box, sklearn cannot do either. Instead we will use fastai's class `TabularPandas`, which wraps a Pandas DataFrame and provides a few conveniences. To populate a `TabularPandas`, we will use two  `TabularProc`s, `Categorify` and `FillMissing`. A `TabularProc` is like a regular `Transform`, except that:\n",
    "\n",
    "- It returns the exact same object that's passed to it, after modifying the object in place.\n",
    "- It runs the transform once, when data is first passed in, rather than lazily as the data is accessed.\n",
    "\n",
    "`Categorify` is a `TabularProc` that replaces a column with a numeric categorical column. `FillMissing` is a `TabularProc` that replaces missing values with the median of the column, and creates a new Boolean column that is set to `True` for any row where the value was missing. These two transforms are needed for nearly every tabular dataset you will use, so this is a good starting point for your data processing:"
   ]
  },
  {
   "cell_type": "code",
   "execution_count": null,
   "metadata": {},
   "outputs": [],
   "source": [
    "procs = [Categorify, FillMissing]\n",
    "procs"
   ]
  },
  {
   "cell_type": "markdown",
   "metadata": {},
   "source": [
    "TabularPandas will also handle splitting the dataset into training and validation sets for us. \n",
    "\n",
    "Recall the distinction between a validation set and a test set, as discussed in <<chapter_intro>>. A validation set is data we hold back from training in order to ensure that the training process does not overfit on the training data. A test set is data that is held back even more deeply, from us ourselves, in order to ensure that *we* don't overfit on the validation data, as we explore various model architectures and hyperparameters.\n",
    "\n",
    "We want to define our validation data so that it has the same sort of relationship to the training data as the test set will have.\n",
    "\n",
    "In some cases, just randomly choosing a subset of your data points will do that. This is not one of those cases, because it is a time series.\n",
    "\n",
    "\n",
    "\n"
   ]
  },
  {
   "cell_type": "code",
   "execution_count": null,
   "metadata": {},
   "outputs": [],
   "source": [
    "df_2016_T07.columns, df_2017_T07.columns"
   ]
  },
  {
   "cell_type": "code",
   "execution_count": null,
   "metadata": {},
   "outputs": [],
   "source": [
    "# I think the dataset is already sorted based on timestamp, TODO: maybe check out later\n",
    "#df_2016_T07 = df_2016_T07.sort_values('Timestamp')\n",
    "\n",
    "# split 2016 set into training set and validation set\n",
    "training_percentage = 0.66 # split is 33% training data, 17% validation data and 50% test data like in Olivers rapport. 66% training here because we only use 2016 dataset for test/validation\n",
    "split_index = int(len(df_2016_T07) * training_percentage)\n",
    "\n",
    "# split dataframe\n",
    "train = df_2016_T07.iloc[:split_index].index\n",
    "validation = df_2016_T07.iloc[split_index:].index\n",
    "\n",
    "splits = (list(train), list(validation))\n",
    "\n",
    "\n",
    "# To calculate percentages\n",
    "\n",
    "total_data = len(df_2016_T07) + len(df_2017_T07)\n",
    "train_percent = len(train) / total_data * 100\n",
    "valid_percent = len(validation) / total_data * 100\n",
    "test_percent = len(df_2017_T07) / total_data * 100\n",
    "\n",
    "print(f\"Training set: {round(train_percent,2)}%\")\n",
    "print(f\"Validation set: {round(valid_percent,2)}%\")\n",
    "print(f\"Test set: {round(test_percent,2)}%\")"
   ]
  },
  {
   "cell_type": "markdown",
   "metadata": {},
   "source": [
    "`TabularPandas` needs to be told which columns are continuous and which are categorical. We can handle that automatically using the helper function `cont_cat_split`:"
   ]
  },
  {
   "cell_type": "code",
   "execution_count": null,
   "metadata": {},
   "outputs": [],
   "source": [
    "cont,cat = cont_cat_split(df_2016_T07,1,dep_var=dep_var)"
   ]
  },
  {
   "cell_type": "code",
   "execution_count": null,
   "metadata": {},
   "outputs": [],
   "source": [
    "to = TabularPandas(df_2016_T07, procs, cat, cont, y_names=dep_var, splits=splits)"
   ]
  },
  {
   "cell_type": "code",
   "execution_count": null,
   "metadata": {},
   "outputs": [],
   "source": [
    "len(to.train),len(to.valid)"
   ]
  },
  {
   "cell_type": "code",
   "execution_count": null,
   "metadata": {},
   "outputs": [],
   "source": [
    "to.show(3)"
   ]
  },
  {
   "cell_type": "code",
   "execution_count": null,
   "metadata": {},
   "outputs": [],
   "source": [
    "to.items.head(3)"
   ]
  },
  {
   "cell_type": "code",
   "execution_count": null,
   "metadata": {},
   "outputs": [],
   "source": [
    "#TODO: add path\n",
    "\n",
    "save_pickle('models/to.pkl',to)"
   ]
  },
  {
   "cell_type": "code",
   "execution_count": null,
   "metadata": {},
   "outputs": [],
   "source": [
    "# load model\n",
    "\n",
    "to = load_pickle('models/to.pkl')\n",
    "to"
   ]
  },
  {
   "cell_type": "code",
   "execution_count": null,
   "metadata": {},
   "outputs": [],
   "source": [
    "xs,y = to.train.xs,to.train.y\n",
    "valid_xs,valid_y = to.valid.xs,to.valid.y"
   ]
  },
  {
   "cell_type": "code",
   "execution_count": null,
   "metadata": {},
   "outputs": [],
   "source": [
    "m = DecisionTreeRegressor(max_leaf_nodes=4)\n",
    "m.fit(xs,y)"
   ]
  },
  {
   "cell_type": "code",
   "execution_count": null,
   "metadata": {},
   "outputs": [],
   "source": [
    "draw_tree(m,xs,size=10,leaves_parallel=True, precision=2)"
   ]
  },
  {
   "cell_type": "code",
   "execution_count": null,
   "metadata": {},
   "outputs": [],
   "source": [
    "import dtreeviz\n",
    "samp_idx = np.random.permutation(len(y))[:500]\n",
    "dtre_plot = dtreeviz.model(m, xs.iloc[samp_idx], y.iloc[samp_idx], feature_names = xs.columns, target_name=dep_var)\n",
    "dtre_plot.view()"
   ]
  },
  {
   "cell_type": "code",
   "execution_count": null,
   "metadata": {},
   "outputs": [],
   "source": [
    "m = DecisionTreeRegressor()\n",
    "m.fit(xs,y);"
   ]
  },
  {
   "cell_type": "markdown",
   "metadata": {},
   "source": [
    "We'll create a little function to check the root mean squared error of our model (`m_rmse`), since that's how the competition was judged (Oliver used root mean square error?)"
   ]
  },
  {
   "cell_type": "code",
   "execution_count": null,
   "metadata": {},
   "outputs": [],
   "source": [
    "def r_mse(pred,y): return round(math.sqrt(((pred-y)**2).mean()),6)\n",
    "def m_rmse(m,xs,y): return r_mse(m.predict(xs),y)"
   ]
  },
  {
   "cell_type": "code",
   "execution_count": null,
   "metadata": {},
   "outputs": [],
   "source": [
    "m_rmse(m,xs,y)"
   ]
  },
  {
   "cell_type": "markdown",
   "metadata": {},
   "source": [
    "So, our model is perfect, right? Not so fast... remember we really need to check the validation set, to ensure we're not overfitting:"
   ]
  },
  {
   "cell_type": "code",
   "execution_count": null,
   "metadata": {},
   "outputs": [],
   "source": [
    "print(f'root mean square error: {m_rmse(m,valid_xs,valid_y)}')"
   ]
  },
  {
   "cell_type": "code",
   "execution_count": null,
   "metadata": {},
   "outputs": [],
   "source": [
    "m.get_n_leaves(), len(xs)"
   ]
  },
  {
   "cell_type": "markdown",
   "metadata": {},
   "source": [
    "We are overfitting badly as there are almost as many leaf nodes as data points!"
   ]
  },
  {
   "cell_type": "code",
   "execution_count": null,
   "metadata": {},
   "outputs": [],
   "source": [
    "m = DecisionTreeRegressor(min_samples_leaf = 25)\n",
    "m.fit(to.train.xs, to.train.y)\n",
    "print(f'root mean square error - training data: {m_rmse(m,xs,y)}, validation data: {m_rmse(m, valid_xs, valid_y)}')"
   ]
  },
  {
   "cell_type": "code",
   "execution_count": null,
   "metadata": {},
   "outputs": [],
   "source": [
    "m.get_n_leaves(), len(xs)"
   ]
  },
  {
   "cell_type": "markdown",
   "metadata": {},
   "source": [
    "# Implementing a random forest"
   ]
  },
  {
   "cell_type": "markdown",
   "metadata": {},
   "source": [
    "We can create a random forest just like we created a decision tree, except now, we are also specifying parameters that indicate how many trees should be in the forest, how we should subset the data items (the rows), and how we should subset the fields (the columns).\n",
    "\n",
    "In the following function definition `n_estimators` defines the number of trees we want, `max_samples` defines how many rows to sample for training each tree, and `max_features` defines how many columns to sample at each split point (where `0.5` means \"take half the total number of columns\"). We can also specify when to stop splitting the tree nodes, effectively limiting the depth of the tree, by including the same `min_samples_leaf` parameter we used in the last section. Finally, we pass `n_jobs=-1` to tell sklearn to use all our CPUs to build the trees in parallel. By creating a little function for this, we can more quickly try different variations in the rest of this chapter:"
   ]
  },
  {
   "cell_type": "code",
   "execution_count": null,
   "metadata": {},
   "outputs": [],
   "source": [
    "def rf(xs, y, n_estimators=60,\n",
    "        max_features = 0.5, min_samples_leaf=5, **kwargs):\n",
    "    return RandomForestRegressor(n_jobs=1, n_estimators=n_estimators,\n",
    "         max_features=max_features,\n",
    "        min_samples_leaf=min_samples_leaf, oob_score=True).fit(xs,y)"
   ]
  },
  {
   "cell_type": "code",
   "execution_count": null,
   "metadata": {},
   "outputs": [],
   "source": [
    "m = rf(xs,y);"
   ]
  },
  {
   "cell_type": "code",
   "execution_count": null,
   "metadata": {},
   "outputs": [],
   "source": [
    "print(f'root mean square error for - training set: {m_rmse(m,xs,y)}, and validation set: {m_rmse(m,valid_xs,valid_y)}')"
   ]
  },
  {
   "cell_type": "markdown",
   "metadata": {},
   "source": [
    "Random forests aren't very sensitive to hyperparameter choices, such as max_features. n_estimators can be set as high as you have the time to train. max_samples can often be set to default, unless you have over 200,000 datapoints, in which case setting it to 200,000 will make it train faster with little impact on accuracy. "
   ]
  },
  {
   "cell_type": "markdown",
   "metadata": {},
   "source": [
    "### Out-of-bag error:\n"
   ]
  },
  {
   "cell_type": "code",
   "execution_count": null,
   "metadata": {},
   "outputs": [],
   "source": [
    "print(f'out-of-bag error: {r_mse(m.oob_prediction_,y)}')"
   ]
  },
  {
   "cell_type": "markdown",
   "metadata": {},
   "source": [
    "### Model interpretation:"
   ]
  },
  {
   "cell_type": "code",
   "execution_count": null,
   "metadata": {},
   "outputs": [],
   "source": [
    "preds = np.stack([t.predict(valid_xs) for t in m.estimators_])"
   ]
  },
  {
   "cell_type": "code",
   "execution_count": null,
   "metadata": {},
   "outputs": [],
   "source": [
    "preds.shape"
   ]
  },
  {
   "cell_type": "markdown",
   "metadata": {},
   "source": [
    "Now we have a prediction for every tree and every temperature (60 trees and 17,832 temps(?) in the validation set.\n",
    "\n",
    "Using this we can get the standard deviation of the predictions over all the trees, for each temperature:"
   ]
  },
  {
   "cell_type": "code",
   "execution_count": null,
   "metadata": {},
   "outputs": [],
   "source": [
    "preds_std = preds.std(0)"
   ]
  },
  {
   "cell_type": "markdown",
   "metadata": {},
   "source": [
    "Here are the standard deviations for the predictions for the first five temperatures—that is, the first five rows of the validation set:"
   ]
  },
  {
   "cell_type": "code",
   "execution_count": null,
   "metadata": {},
   "outputs": [],
   "source": [
    "print(f'standard deviations for the first five rows of validation set: {preds_std[:5]}')"
   ]
  },
  {
   "cell_type": "markdown",
   "metadata": {},
   "source": [
    "### Feature Importance"
   ]
  },
  {
   "cell_type": "code",
   "execution_count": null,
   "metadata": {},
   "outputs": [],
   "source": [
    "def rf_feat_importance(m,df_2016_T07):\n",
    "    return pd.DataFrame({'cols':df_2016_T07.columns, 'imp':m.feature_importances_}\n",
    "                        ).sort_values('imp', ascending=False)"
   ]
  },
  {
   "cell_type": "markdown",
   "metadata": {},
   "source": [
    "The feature importances for our model show that the first few most important columns have much higher importance scores than the rest. We can see that the temperature in the generator phase has the highest impact on model predicitons."
   ]
  },
  {
   "cell_type": "code",
   "execution_count": null,
   "metadata": {},
   "outputs": [],
   "source": [
    "fi = rf_feat_importance(m,xs)\n",
    "fi[:10]"
   ]
  },
  {
   "cell_type": "code",
   "execution_count": null,
   "metadata": {},
   "outputs": [],
   "source": [
    "def plot_fi(fi):\n",
    "    return fi.plot('cols', 'imp', 'barh', figsize=(12,7), legend=False)\n",
    "\n",
    "plot_fi(fi[:30]);"
   ]
  },
  {
   "cell_type": "markdown",
   "metadata": {},
   "source": [
    "I motsetning til Olivers rapport så har windspeed og nacelle temp lite å si i prediction her. "
   ]
  },
  {
   "cell_type": "markdown",
   "metadata": {},
   "source": [
    "### Removing Low-Importance Variables"
   ]
  },
  {
   "cell_type": "code",
   "execution_count": null,
   "metadata": {},
   "outputs": [],
   "source": [
    "to_keep = fi[fi.imp>0.002].cols\n",
    "len(to_keep)"
   ]
  },
  {
   "cell_type": "code",
   "execution_count": null,
   "metadata": {},
   "outputs": [],
   "source": [
    "xs_imp = xs[to_keep]\n",
    "valid_xs_imp = valid_xs[to_keep]"
   ]
  },
  {
   "cell_type": "code",
   "execution_count": null,
   "metadata": {},
   "outputs": [],
   "source": [
    "m = rf(xs_imp, y)"
   ]
  },
  {
   "cell_type": "code",
   "execution_count": null,
   "metadata": {},
   "outputs": [],
   "source": [
    "print(f'root mean square error for - test set: {m_rmse(m,xs_imp,y)}, and validation set: {m_rmse(m,valid_xs_imp,valid_y)}')"
   ]
  },
  {
   "cell_type": "markdown",
   "metadata": {},
   "source": [
    "This removed A LOT of columns which lead to an increase in RMSE in training set by ONLY 0.2 and for validation set 0.1.\n",
    "The process cut A LOT of time down on model training (from 1 minute 10 seconds to 4 seconds). It also lead to an increase of 0.2 in OOB error.\n"
   ]
  },
  {
   "cell_type": "code",
   "execution_count": null,
   "metadata": {},
   "outputs": [],
   "source": [
    "print(f'out-of-bag error: {r_mse(m.oob_prediction_,y)}')"
   ]
  },
  {
   "cell_type": "code",
   "execution_count": null,
   "metadata": {},
   "outputs": [],
   "source": [
    "print(f'num col. before: {len(xs.columns)}, after: {len(xs_imp.columns)}')"
   ]
  },
  {
   "cell_type": "code",
   "execution_count": null,
   "metadata": {},
   "outputs": [],
   "source": [
    "plot_fi(rf_feat_importance(m,xs_imp));"
   ]
  },
  {
   "cell_type": "markdown",
   "metadata": {},
   "source": [
    "One thing that makes this harder to interpret is that there seem to be some variables with very similar meanings: for example, `Gen_Phase2_Temp_Avg` and `Gen_Phase3_Temp_Avg`. Let's try to remove any redundent features."
   ]
  },
  {
   "cell_type": "markdown",
   "metadata": {},
   "source": [
    "### Removing Redundant Features"
   ]
  },
  {
   "cell_type": "code",
   "execution_count": null,
   "metadata": {},
   "outputs": [],
   "source": [
    "cluster_columns(xs_imp)"
   ]
  },
  {
   "cell_type": "markdown",
   "metadata": {},
   "source": [
    "In this chart, the pairs of columns that are most similar are the ones that were merged together early, far from the \"root\" of the tree at the left."
   ]
  },
  {
   "cell_type": "markdown",
   "metadata": {},
   "source": [
    "Let's try removing some of these closely related features to see if the model can be simplified without impacting the accuracy. First, we create a function that quickly trains a random forest and returns the OOB score, by using a lower `max_samples` and higher `min_samples_leaf`. The OOB score is a number returned by sklearn that ranges between 1.0 for a perfect model and 0.0 for a random model. (In statistics it's called *R^2*, although the details aren't important for this explanation.) We don't need it to be very accurate—we're just going to use it to compare different models, based on removing some of the possibly redundant columns:"
   ]
  },
  {
   "cell_type": "code",
   "execution_count": null,
   "metadata": {},
   "outputs": [],
   "source": [
    "def get_oob(df_2016_T07):\n",
    "    m = RandomForestRegressor(n_estimators=60, min_samples_leaf=15,\n",
    "        max_features=0.5, n_jobs=1, oob_score=True)\n",
    "    m.fit(df_2016_T07,y)\n",
    "    return m.oob_score_"
   ]
  },
  {
   "cell_type": "code",
   "execution_count": null,
   "metadata": {},
   "outputs": [],
   "source": [
    "get_oob(xs_imp)"
   ]
  },
  {
   "cell_type": "markdown",
   "metadata": {},
   "source": [
    "This function iteratively removes one feature from the model, and calculates the OOB-score. The purpose is to see how much the OOB-score changes for each redundant feature removed"
   ]
  },
  {
   "cell_type": "code",
   "execution_count": null,
   "metadata": {},
   "outputs": [],
   "source": [
    "{c:get_oob(xs_imp.drop(c,axis=1)) for c in (\n",
    "    'Gen_Phase1_Temp_Avg', 'Gen_Phase2_Temp_Avg', 'Gen_Phase3_Temp_Avg', 'Gear_Bear_Temp_Avg', 'Cont_Top_Temp_Avg','Cont_VCP_Temp_Avg'\n",
    ")}"
   ]
  },
  {
   "cell_type": "markdown",
   "metadata": {},
   "source": [
    "Let's try to drop one from each of the tightly pairs we noticed earlier in the chart."
   ]
  },
  {
   "cell_type": "code",
   "execution_count": null,
   "metadata": {},
   "outputs": [],
   "source": [
    "to_drop = ['Gen_Phase2_Temp_Avg','Gen_Phase3_Temp_Avg','Gear_Bear_Temp_Avg','Cont_VCP_Temp_Avg']\n",
    "get_oob(xs_imp.drop(to_drop,axis=1))"
   ]
  },
  {
   "cell_type": "markdown",
   "metadata": {},
   "source": [
    "Looking good! R^2 barely changed, lets create DataFrames without these columns, and save them:"
   ]
  },
  {
   "cell_type": "code",
   "execution_count": null,
   "metadata": {},
   "outputs": [],
   "source": [
    "xs_final = xs_imp.drop(to_drop,axis=1)\n",
    "valid_xs_final = valid_xs_imp.drop(to_drop, axis=1)"
   ]
  },
  {
   "cell_type": "code",
   "execution_count": null,
   "metadata": {},
   "outputs": [],
   "source": [
    "save_pickle('models/xs_final.pkl', xs_final)\n",
    "save_pickle('models/valid_xs_final.pkl', valid_xs_final)"
   ]
  },
  {
   "cell_type": "markdown",
   "metadata": {},
   "source": [
    "We can load them back later with:"
   ]
  },
  {
   "cell_type": "code",
   "execution_count": null,
   "metadata": {},
   "outputs": [],
   "source": [
    "xs_final = load_pickle('models/xs_final.pkl')\n",
    "valid_xs_final = load_pickle('models/valid_xs_final.pkl')"
   ]
  },
  {
   "cell_type": "code",
   "execution_count": null,
   "metadata": {},
   "outputs": [],
   "source": [
    "m = rf(xs_final, y)\n",
    "print(f'root mean square error for - test set: {m_rmse(m,xs_final,y)}, and validation set: {m_rmse(m,valid_xs_final,valid_y)}')"
   ]
  },
  {
   "cell_type": "code",
   "execution_count": null,
   "metadata": {},
   "outputs": [],
   "source": [
    "m"
   ]
  },
  {
   "cell_type": "code",
   "execution_count": null,
   "metadata": {},
   "outputs": [],
   "source": [
    "plot_fi(rf_feat_importance(m,xs_final));"
   ]
  },
  {
   "cell_type": "code",
   "execution_count": null,
   "metadata": {},
   "outputs": [],
   "source": [
    "cluster_columns(xs_final)"
   ]
  },
  {
   "cell_type": "markdown",
   "metadata": {},
   "source": [
    "### Partial Dependence"
   ]
  },
  {
   "cell_type": "markdown",
   "metadata": {},
   "source": [
    "The most important features are Gen_Phase_Temp_Avg and Cont_VCP_ChokcoilTemp_Avg. We'd like to understand the relationship between these predictors and bearing temperature. "
   ]
  },
  {
   "cell_type": "code",
   "execution_count": null,
   "metadata": {},
   "outputs": [],
   "source": [
    "p = valid_xs_final['Gen_Phase1_Temp_Avg'].plot.hist()\n",
    "plt.xlabel('Gen_Phase1_Temp_Avg')\n",
    "plt.show()"
   ]
  },
  {
   "cell_type": "code",
   "execution_count": null,
   "metadata": {},
   "outputs": [],
   "source": [
    "p = valid_xs_final['Cont_VCP_ChokcoilTemp_Avg'].plot.hist()\n",
    "plt.xlabel('Cont_VCP_ChokcoilTemp_Avg')\n",
    "plt.show()"
   ]
  },
  {
   "cell_type": "markdown",
   "metadata": {},
   "source": [
    "Now we're ready to look at *partial dependence plots*. Partial dependence plots try to answer the question: if a row varied on nothing other than the feature in question, how would it impact the dependent variable?\n",
    "\n",
    "For instance, how does `Cont_VCP_ChokcoilTemp_Avg` impact bearing temp, all other things being equal?"
   ]
  },
  {
   "cell_type": "code",
   "execution_count": null,
   "metadata": {},
   "outputs": [],
   "source": [
    "from sklearn.inspection import PartialDependenceDisplay\n",
    "\n",
    "fig, ax = plt.subplots(figsize=(12,4))\n",
    "PartialDependenceDisplay.from_estimator(m,valid_xs_final, ['Cont_VCP_ChokcoilTemp_Avg', 'Gen_Phase1_Temp_Avg'],\n",
    "                                        grid_resolution=20, ax=ax);\n"
   ]
  },
  {
   "cell_type": "markdown",
   "metadata": {},
   "source": [
    "### Tree Interpreter"
   ]
  },
  {
   "cell_type": "code",
   "execution_count": null,
   "metadata": {},
   "outputs": [],
   "source": [
    "import warnings\n",
    "warnings.simplefilter('ignore', FutureWarning)\n",
    "\n",
    "from treeinterpreter import treeinterpreter\n",
    "from waterfall_chart import plot as waterfall"
   ]
  },
  {
   "cell_type": "markdown",
   "metadata": {},
   "source": [
    "Now we want to answer: For prediciting with a particular row of data, what were the most important factors, and how did they influence that prediction?"
   ]
  },
  {
   "cell_type": "markdown",
   "metadata": {},
   "source": []
  },
  {
   "cell_type": "code",
   "execution_count": null,
   "metadata": {},
   "outputs": [],
   "source": [
    "row = valid_xs_final.iloc[:5]"
   ]
  },
  {
   "cell_type": "code",
   "execution_count": null,
   "metadata": {},
   "outputs": [],
   "source": [
    "prediction,bias,contributions = treeinterpreter.predict(m, row.values)"
   ]
  },
  {
   "cell_type": "code",
   "execution_count": null,
   "metadata": {},
   "outputs": [],
   "source": [
    "prediction[0], bias[0], contributions[0].sum()"
   ]
  },
  {
   "cell_type": "code",
   "execution_count": null,
   "metadata": {},
   "outputs": [],
   "source": [
    "waterfall(valid_xs_final.columns, contributions[0], threshold=0.08,\n",
    "          rotation_value=45, formatting='{:,.3f}');"
   ]
  },
  {
   "cell_type": "markdown",
   "metadata": {},
   "source": [
    "### Out-of-domain data"
   ]
  },
  {
   "cell_type": "code",
   "execution_count": null,
   "metadata": {},
   "outputs": [],
   "source": [
    "df_dom = pd.concat([xs_final, valid_xs_final])\n",
    "is_valid = np.array([0]*len(xs_final) + [1]*len(valid_xs_final))\n",
    "\n",
    "m = rf(df_dom, is_valid)\n",
    "rf_feat_importance(m,df_dom[:6])"
   ]
  },
  {
   "cell_type": "markdown",
   "metadata": {},
   "source": [
    "This shows that there are three columns that differ significantly between the training and validation sets: 'HVTrafo_Phase3_Temp_Avg','HVTrafo_Phase2_Temp_Avg',and 'Cont_VCP_ChokcoilTemp_Avg'"
   ]
  },
  {
   "cell_type": "code",
   "execution_count": null,
   "metadata": {},
   "outputs": [],
   "source": [
    "m = rf(xs_final, y)\n",
    "print('orig', m_rmse(m, valid_xs_final, valid_y))\n",
    "\n",
    "for c in ('HVTrafo_Phase3_Temp_Avg','HVTrafo_Phase2_Temp_Avg','Cont_VCP_ChokcoilTemp_Avg'):\n",
    "    m = rf(xs_final.drop(c,axis=1), y)\n",
    "    print(c, m_rmse(m, valid_xs_final.drop(c,axis=1), valid_y))"
   ]
  },
  {
   "cell_type": "code",
   "execution_count": null,
   "metadata": {},
   "outputs": [],
   "source": [
    "time_vars = ['HVTrafo_Phase3_Temp_Avg']\n",
    "xs_final_time = xs_final.drop(time_vars, axis=1)\n",
    "valid_xs_time = valid_xs_final.drop(time_vars, axis=1)\n",
    "\n",
    "m = rf(xs_final_time, y)\n",
    "m_rmse(m, valid_xs_time, valid_y)"
   ]
  },
  {
   "cell_type": "markdown",
   "metadata": {},
   "source": [
    "Removing this variable has slightly improved the model's accuracy; but more importantly, it should make it more resilient over time, and easier to maintain and understand."
   ]
  },
  {
   "cell_type": "markdown",
   "metadata": {},
   "source": [
    "In addition we could try training on a subset of the data, which might improve the models accuracy once more. See lecture 9 fastai"
   ]
  }
 ],
 "metadata": {
  "kernelspec": {
   "display_name": "Python 3",
   "language": "python",
   "name": "python3"
  },
  "language_info": {
   "codemirror_mode": {
    "name": "ipython",
    "version": 3
   },
   "file_extension": ".py",
   "mimetype": "text/x-python",
   "name": "python",
   "nbconvert_exporter": "python",
   "pygments_lexer": "ipython3",
   "version": "3.11.8"
  }
 },
 "nbformat": 4,
 "nbformat_minor": 2
}
